{
 "cells": [
  {
   "cell_type": "markdown",
   "metadata": {},
   "source": [
    "# Random Forest with genotype -> phenotype data"
   ]
  },
  {
   "cell_type": "code",
   "execution_count": null,
   "metadata": {},
   "outputs": [],
   "source": [
    "import pandas as pd\n",
    "import numpy as np\n",
    "import os"
   ]
  },
  {
   "cell_type": "code",
   "execution_count": null,
   "metadata": {},
   "outputs": [],
   "source": [
    "import sklearn\n",
    "import random\n",
    "from sklearn.ensemble import RandomForestClassifier, RandomForestRegressor\n",
    "from sklearn.model_selection import KFold"
   ]
  },
  {
   "cell_type": "markdown",
   "metadata": {},
   "source": [
    "# Importing the data"
   ]
  },
  {
   "cell_type": "code",
   "execution_count": null,
   "metadata": {},
   "outputs": [],
   "source": [
    "# Config for accessing the data on the s3 storage\n",
    "storage_options = {'anon':True, 'client_kwargs':{'endpoint_url':'https://os.unil.cloud.switch.ch'}}\n",
    "s3_path = 's3://lts2-graphnex/BXDmice/'"
   ]
  },
  {
   "cell_type": "code",
   "execution_count": null,
   "metadata": {},
   "outputs": [],
   "source": [
    "# Load the data\n",
    "genotype_path = os.path.join(s3_path, 'geno_reduced.csv.gz')\n",
    "#genotype_path = os.path.join(s3_path, 'genotype_BXD.csv.gz')\n",
    "genotype = pd.read_csv(genotype_path, storage_options=storage_options)\n",
    "print('File {} Opened.'.format(genotype_path))\n",
    "phenotype_path = os.path.join(s3_path, 'Phenotype.txt.gz')\n",
    "phenotype = pd.read_csv(phenotype_path, sep='\\t', storage_options=storage_options)\n",
    "print('File {} Opened.'.format(phenotype_path))\n",
    "# Phenotype description\n",
    "phenotypeinfo_path = os.path.join(s3_path, 'phenotypes_id_aligner.txt.gz')\n",
    "phenotypeinfo = pd.read_csv(phenotypeinfo_path, sep='\\t', storage_options=storage_options)\n",
    "print('File {} Opened.'.format(phenotypeinfo_path))"
   ]
  },
  {
   "cell_type": "code",
   "execution_count": null,
   "metadata": {},
   "outputs": [],
   "source": [
    "# Random Forest function\n",
    "def run_RF(data,labels, n_estimators=1000, max_depth=3, nb_folds=3):\n",
    "    # Run k-fold learning\n",
    "    # with random forest\n",
    "    k_fold = KFold(nb_folds)\n",
    "    kscores =np.zeros(nb_folds)\n",
    "    #print(kscores)\n",
    "    for k, (train, test) in enumerate(k_fold.split(data, labels)):\n",
    "        clf = RandomForestRegressor(n_estimators=n_estimators, max_depth=max_depth)\n",
    "        clf.fit(data[train], labels[train])\n",
    "        score = clf.score(data[test], labels[test])\n",
    "        kscores[k] = score\n",
    "    # The final score is the mean of all the k fold scores\n",
    "    meanscore = np.mean(kscores)\n",
    "    feat = clf.feature_importances_ # TODO take the features of the best fold or of all the folds\n",
    "    # nb of best features to record\n",
    "    nb_features = 5\n",
    "    feat_index = np.argsort(feat)[-nb_features:]\n",
    "    feat_index = feat_index[::-1]\n",
    "    feat_score = feat[feat_index]\n",
    "    return meanscore,feat_index,feat_score"
   ]
  },
  {
   "cell_type": "markdown",
   "metadata": {},
   "source": [
    "## Example on one phenotype"
   ]
  },
  {
   "cell_type": "code",
   "execution_count": null,
   "metadata": {},
   "outputs": [],
   "source": [
    "pheno_id = 'X122'\n",
    "phenotype[phenotype['PhenoID']==pheno_id]"
   ]
  },
  {
   "cell_type": "code",
   "execution_count": null,
   "metadata": {},
   "outputs": [],
   "source": [
    "phenotypeinfo[phenotypeinfo['PhenoID']=='X122']"
   ]
  },
  {
   "cell_type": "code",
   "execution_count": null,
   "metadata": {},
   "outputs": [],
   "source": [
    "experiment = phenotype[phenotype['PhenoID']==pheno_id]\n",
    "pheno_labels = experiment.loc[:,'C57BL.6J':].dropna(axis=1)\n",
    "geno_data = genotype[pheno_labels.keys()]\n",
    "score,feat_index,feat_score = run_RF(geno_data.values.T, pheno_labels.values.ravel(), 2000, 6, 3)    \n",
    "print('Score',score)\n",
    "print('Best features {}, best feature scores {}'.format(feat_index, feat_score))"
   ]
  },
  {
   "cell_type": "markdown",
   "metadata": {},
   "source": [
    "## Loop on all the phenotypes"
   ]
  },
  {
   "cell_type": "code",
   "execution_count": null,
   "metadata": {},
   "outputs": [],
   "source": [
    "for pheno_index, pheno_row in phenotype.iterrows():\n",
    "    pheno_id = pheno_row['PhenoID']\n",
    "    pheno_labels = pheno_row['C57BL.6J':].dropna()\n",
    "    if len(pheno_labels)<5: # Skip small list of samples\n",
    "        print(pheno_id, pheno_labels)\n",
    "        continue\n",
    "    geno_data = genotype[pheno_labels.keys()]\n",
    "    score,feat_index,feat_score = run_RF(geno_data.values.T, pheno_labels.values, 300, 3, 2)    \n",
    "    print(score)\n",
    "    #if score > 0.8:\n",
    "    #    print(score, feat_index, feat_score)\n",
    "    #if pheno_index%10 ==0:\n",
    "    #    print(pheno_index)"
   ]
  },
  {
   "cell_type": "code",
   "execution_count": null,
   "metadata": {},
   "outputs": [],
   "source": []
  }
 ],
 "metadata": {
  "kernelspec": {
   "display_name": "venv",
   "language": "python",
   "name": "venv"
  },
  "language_info": {
   "codemirror_mode": {
    "name": "ipython",
    "version": 3
   },
   "file_extension": ".py",
   "mimetype": "text/x-python",
   "name": "python",
   "nbconvert_exporter": "python",
   "pygments_lexer": "ipython3",
   "version": "3.8.0"
  }
 },
 "nbformat": 4,
 "nbformat_minor": 4
}
